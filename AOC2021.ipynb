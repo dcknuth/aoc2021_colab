{
  "nbformat": 4,
  "nbformat_minor": 0,
  "metadata": {
    "colab": {
      "provenance": [],
      "authorship_tag": "ABX9TyOa4f7hOlMl752CJ/jd2I6t",
      "include_colab_link": true
    },
    "kernelspec": {
      "name": "python3",
      "display_name": "Python 3"
    },
    "language_info": {
      "name": "python"
    }
  },
  "cells": [
    {
      "cell_type": "markdown",
      "metadata": {
        "id": "view-in-github",
        "colab_type": "text"
      },
      "source": [
        "<a href=\"https://colab.research.google.com/github/dcknuth/aoc2021_colab/blob/main/AOC2021.ipynb\" target=\"_parent\"><img src=\"https://colab.research.google.com/assets/colab-badge.svg\" alt=\"Open In Colab\"/></a>"
      ]
    },
    {
      "cell_type": "markdown",
      "source": [
        "[Day One](https://adventofcode.com/2021/day/1) Sonar Sweep\n",
        "\n",
        "Count the number of times a depth measurement increases from the previous measurement"
      ],
      "metadata": {
        "id": "q5UcSKVBG2gy"
      }
    },
    {
      "cell_type": "code",
      "execution_count": null,
      "metadata": {
        "id": "MInTMuRgF9_J"
      },
      "outputs": [],
      "source": [
        "# first test input\n",
        "filename = 'test01.txt'\n",
        "with open(filename) as f:\n",
        "  ls = f.read().strip().split('\\n')\n"
      ]
    },
    {
      "cell_type": "code",
      "source": [
        "# my puzzle input not in the notebook as indivdual input should not be publicly\n",
        "#  posted\n",
        "filename = 'input_d01.txt'\n",
        "with open(filename) as f:\n",
        "  ls = f.read().strip().split('\\n')\n"
      ],
      "metadata": {
        "id": "xVjpRhvFN-tz"
      },
      "execution_count": null,
      "outputs": []
    },
    {
      "cell_type": "code",
      "source": [
        "# Part 1\n",
        "# remember to change the inputs to integers or everything will seem like it\n",
        "#  works, but be wrong\n",
        "ls = [int(x) for x in ls]\n",
        "count = 0\n",
        "for i in range(1, len(ls)):\n",
        "  if ls[i] > ls[i-1]:\n",
        "    count += 1\n",
        "print(\"Total number of increases is\", count)\n"
      ],
      "metadata": {
        "colab": {
          "base_uri": "https://localhost:8080/"
        },
        "id": "AqtYsU5PGH2Z",
        "outputId": "d7264b72-eac3-45d7-b9fc-d6d97936c19e"
      },
      "execution_count": null,
      "outputs": [
        {
          "output_type": "stream",
          "name": "stdout",
          "text": [
            "Total number of increases is 1502\n"
          ]
        }
      ]
    },
    {
      "cell_type": "code",
      "source": [
        "# Part 2\n",
        "ls = [int(x) for x in ls]\n",
        "count = 0\n",
        "for i in range(4, len(ls)+1):\n",
        "  if sum(ls[i-3:i]) > sum(ls[i-4:i-1]):\n",
        "    count += 1\n",
        "print(\"Total increase of sliding window of three is\", count)\n"
      ],
      "metadata": {
        "colab": {
          "base_uri": "https://localhost:8080/"
        },
        "id": "EOeWXeryVSDs",
        "outputId": "60a034cc-829e-4003-908c-71eb4a0c3290"
      },
      "execution_count": null,
      "outputs": [
        {
          "output_type": "stream",
          "name": "stdout",
          "text": [
            "Total increase of sliding window of three is 1538\n"
          ]
        }
      ]
    },
    {
      "cell_type": "markdown",
      "source": [
        "[Day Two](https://adventofcode.com/2021/day/2) Dive!\n",
        "What do you get if you multiply your final horizontal position by your final depth?\n"
      ],
      "metadata": {
        "id": "shacE606u1m4"
      }
    },
    {
      "cell_type": "code",
      "source": [
        "# test input\n",
        "test_input = '''forward 5\n",
        "down 5\n",
        "forward 8\n",
        "up 3\n",
        "down 8\n",
        "forward 2\n",
        "'''\n",
        "ls = test_input.strip().split('\\n')\n",
        "\n",
        "filename = 'input_d02.txt'\n",
        "with open(filename) as f:\n",
        "  ls = f.read().strip().split('\\n')\n"
      ],
      "metadata": {
        "id": "wbJsgs4GvTig"
      },
      "execution_count": 4,
      "outputs": []
    },
    {
      "cell_type": "code",
      "source": [
        "\n",
        "\n",
        "h_pos = 0\n",
        "depth = 0\n",
        "\n",
        "for l in ls:\n",
        "  command, amount = l.split()\n",
        "  if command == 'forward':\n",
        "    h_pos += int(amount)\n",
        "  elif command == 'down':\n",
        "    depth += int(amount)\n",
        "  elif command == 'up':\n",
        "    depth -= int(amount)\n",
        "  else:\n",
        "    print(\"There was an unknown command\")\n",
        "\n",
        "print(f'Depth ({depth}) times position ({h_pos}) is {h_pos * depth}')\n"
      ],
      "metadata": {
        "colab": {
          "base_uri": "https://localhost:8080/"
        },
        "id": "tGuR1HjwvgiI",
        "outputId": "dc056d45-374a-4ec5-8725-5429c4027edf"
      },
      "execution_count": 5,
      "outputs": [
        {
          "output_type": "stream",
          "name": "stdout",
          "text": [
            "Depth (850) times position (2073) is 1762050\n"
          ]
        }
      ]
    },
    {
      "cell_type": "code",
      "source": [
        "# part two\n",
        "h_pos = 0\n",
        "depth = 0\n",
        "aim = 0\n",
        "\n",
        "for l in ls:\n",
        "  command, amount = l.split()\n",
        "  if command == 'forward':\n",
        "    h_pos += int(amount)\n",
        "    depth += aim * int(amount)\n",
        "  elif command == 'down':\n",
        "    aim += int(amount)\n",
        "  elif command == 'up':\n",
        "    aim -= int(amount)\n",
        "  else:\n",
        "    print(\"There was an unknown command\")\n",
        "\n",
        "print(f'Depth ({depth}) times position ({h_pos}) is {h_pos * depth}')"
      ],
      "metadata": {
        "colab": {
          "base_uri": "https://localhost:8080/"
        },
        "id": "Sq3A4vVxD1hg",
        "outputId": "bff1e6cb-678d-4ebc-fb6a-6514650f3c93"
      },
      "execution_count": 6,
      "outputs": [
        {
          "output_type": "stream",
          "name": "stdout",
          "text": [
            "Depth (895269) times position (2073) is 1855892637\n"
          ]
        }
      ]
    }
  ]
}