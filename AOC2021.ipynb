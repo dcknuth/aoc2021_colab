{
  "nbformat": 4,
  "nbformat_minor": 0,
  "metadata": {
    "colab": {
      "provenance": [],
      "authorship_tag": "ABX9TyOIZGCQf5H8dSgRe7ZizB8z",
      "include_colab_link": true
    },
    "kernelspec": {
      "name": "python3",
      "display_name": "Python 3"
    },
    "language_info": {
      "name": "python"
    }
  },
  "cells": [
    {
      "cell_type": "markdown",
      "metadata": {
        "id": "view-in-github",
        "colab_type": "text"
      },
      "source": [
        "<a href=\"https://colab.research.google.com/github/dcknuth/aoc2021_colab/blob/main/AOC2021.ipynb\" target=\"_parent\"><img src=\"https://colab.research.google.com/assets/colab-badge.svg\" alt=\"Open In Colab\"/></a>"
      ]
    },
    {
      "cell_type": "markdown",
      "source": [
        "[Day One](https://adventofcode.com/2021/day/1) Sonar Sweep\n",
        "\n",
        "Count the number of times a depth measurement increases from the previous measurement"
      ],
      "metadata": {
        "id": "q5UcSKVBG2gy"
      }
    },
    {
      "cell_type": "code",
      "execution_count": null,
      "metadata": {
        "id": "MInTMuRgF9_J"
      },
      "outputs": [],
      "source": [
        "# first test input\n",
        "filename = 'test01.txt'\n",
        "with open(filename) as f:\n",
        "  ls = f.read().strip().split('\\n')\n"
      ]
    },
    {
      "cell_type": "code",
      "source": [
        "# my puzzle input not in the notebook as indivdual input should not be publicly\n",
        "#  posted\n",
        "filename = 'input_d01.txt'\n",
        "with open(filename) as f:\n",
        "  ls = f.read().strip().split('\\n')\n"
      ],
      "metadata": {
        "id": "xVjpRhvFN-tz"
      },
      "execution_count": null,
      "outputs": []
    },
    {
      "cell_type": "code",
      "source": [
        "# Part 1\n",
        "# remember to change the inputs to integers or everything will seem like it\n",
        "#  works, but be wrong\n",
        "ls = [int(x) for x in ls]\n",
        "count = 0\n",
        "for i in range(1, len(ls)):\n",
        "  if ls[i] > ls[i-1]:\n",
        "    count += 1\n",
        "print(\"Total number of increases is\", count)\n"
      ],
      "metadata": {
        "colab": {
          "base_uri": "https://localhost:8080/"
        },
        "id": "AqtYsU5PGH2Z",
        "outputId": "d7264b72-eac3-45d7-b9fc-d6d97936c19e"
      },
      "execution_count": null,
      "outputs": [
        {
          "output_type": "stream",
          "name": "stdout",
          "text": [
            "Total number of increases is 1502\n"
          ]
        }
      ]
    },
    {
      "cell_type": "code",
      "source": [
        "# Part 2\n",
        "ls = [int(x) for x in ls]\n",
        "count = 0\n",
        "for i in range(4, len(ls)+1):\n",
        "  if sum(ls[i-3:i]) > sum(ls[i-4:i-1]):\n",
        "    count += 1\n",
        "print(\"Total increase of sliding window of three is\", count)\n"
      ],
      "metadata": {
        "colab": {
          "base_uri": "https://localhost:8080/"
        },
        "id": "EOeWXeryVSDs",
        "outputId": "60a034cc-829e-4003-908c-71eb4a0c3290"
      },
      "execution_count": null,
      "outputs": [
        {
          "output_type": "stream",
          "name": "stdout",
          "text": [
            "Total increase of sliding window of three is 1538\n"
          ]
        }
      ]
    },
    {
      "cell_type": "markdown",
      "source": [
        "[Day Two](https://adventofcode.com/2021/day/2) Dive!\n",
        "What do you get if you multiply your final horizontal position by your final depth?\n"
      ],
      "metadata": {
        "id": "shacE606u1m4"
      }
    },
    {
      "cell_type": "code",
      "source": [
        "# test input\n",
        "test_input = '''forward 5\n",
        "down 5\n",
        "forward 8\n",
        "up 3\n",
        "down 8\n",
        "forward 2\n",
        "'''\n",
        "ls = test_input.strip().split('\\n')\n",
        "\n",
        "filename = 'input_d02.txt'\n",
        "with open(filename) as f:\n",
        "  ls = f.read().strip().split('\\n')\n"
      ],
      "metadata": {
        "id": "wbJsgs4GvTig"
      },
      "execution_count": null,
      "outputs": []
    },
    {
      "cell_type": "code",
      "source": [
        "\n",
        "\n",
        "h_pos = 0\n",
        "depth = 0\n",
        "\n",
        "for l in ls:\n",
        "  command, amount = l.split()\n",
        "  if command == 'forward':\n",
        "    h_pos += int(amount)\n",
        "  elif command == 'down':\n",
        "    depth += int(amount)\n",
        "  elif command == 'up':\n",
        "    depth -= int(amount)\n",
        "  else:\n",
        "    print(\"There was an unknown command\")\n",
        "\n",
        "print(f'Depth ({depth}) times position ({h_pos}) is {h_pos * depth}')\n"
      ],
      "metadata": {
        "colab": {
          "base_uri": "https://localhost:8080/"
        },
        "id": "tGuR1HjwvgiI",
        "outputId": "dc056d45-374a-4ec5-8725-5429c4027edf"
      },
      "execution_count": null,
      "outputs": [
        {
          "output_type": "stream",
          "name": "stdout",
          "text": [
            "Depth (850) times position (2073) is 1762050\n"
          ]
        }
      ]
    },
    {
      "cell_type": "code",
      "source": [
        "# part two\n",
        "h_pos = 0\n",
        "depth = 0\n",
        "aim = 0\n",
        "\n",
        "for l in ls:\n",
        "  command, amount = l.split()\n",
        "  if command == 'forward':\n",
        "    h_pos += int(amount)\n",
        "    depth += aim * int(amount)\n",
        "  elif command == 'down':\n",
        "    aim += int(amount)\n",
        "  elif command == 'up':\n",
        "    aim -= int(amount)\n",
        "  else:\n",
        "    print(\"There was an unknown command\")\n",
        "\n",
        "print(f'Depth ({depth}) times position ({h_pos}) is {h_pos * depth}')"
      ],
      "metadata": {
        "colab": {
          "base_uri": "https://localhost:8080/"
        },
        "id": "Sq3A4vVxD1hg",
        "outputId": "bff1e6cb-678d-4ebc-fb6a-6514650f3c93"
      },
      "execution_count": null,
      "outputs": [
        {
          "output_type": "stream",
          "name": "stdout",
          "text": [
            "Depth (895269) times position (2073) is 1855892637\n"
          ]
        }
      ]
    },
    {
      "cell_type": "markdown",
      "source": [
        "[Day Three](https://adventofcode.com/2021/day/3) Binary Diagnostic\n",
        "Find the most common bit in the corresponding position"
      ],
      "metadata": {
        "id": "LTzfhsIzozD-"
      }
    },
    {
      "cell_type": "code",
      "source": [
        "test_input = '''00100\n",
        "11110\n",
        "10110\n",
        "10111\n",
        "10101\n",
        "01111\n",
        "00111\n",
        "11100\n",
        "10000\n",
        "11001\n",
        "00010\n",
        "01010\n",
        "'''\n",
        "\n",
        "from collections import defaultdict"
      ],
      "metadata": {
        "id": "4lI-2-okpfxw"
      },
      "execution_count": null,
      "outputs": []
    },
    {
      "cell_type": "code",
      "source": [
        "ls = test_input.strip().split('\\n')\n",
        "count = 0\n",
        "counts = defaultdict(int)\n",
        "for l in ls:\n",
        "  for i, c in enumerate(l):\n",
        "    if c == '1':\n",
        "      counts[i] += 1\n",
        "  count += 1\n",
        "\n",
        "most_common_bits = []\n",
        "least_common_bits = []\n",
        "for place in sorted(list(counts.keys())):\n",
        "  if counts[place] > count/2:\n",
        "    most_common_bits.append('1')\n",
        "    least_common_bits.append('0')\n",
        "  else:\n",
        "    most_common_bits.append('0')\n",
        "    least_common_bits.append('1')\n",
        "\n",
        "gamma = int(''.join(most_common_bits), 2)\n",
        "epsilon = int(''.join(least_common_bits), 2)\n",
        "print('The gamma rate is', gamma)\n",
        "print('The epsilon rate is', epsilon)\n",
        "print(\"Power consumption is\", gamma * epsilon)"
      ],
      "metadata": {
        "colab": {
          "base_uri": "https://localhost:8080/"
        },
        "id": "2us3BTuap6n2",
        "outputId": "be2e8546-f7f8-43c3-8324-bd96639f85e2"
      },
      "execution_count": null,
      "outputs": [
        {
          "output_type": "stream",
          "name": "stdout",
          "text": [
            "The gamma rate is 22\n",
            "The epsilon rate is 9\n",
            "Power consumption is 198\n"
          ]
        }
      ]
    },
    {
      "cell_type": "code",
      "source": [
        "filename = 'input_d03.txt'\n",
        "with open(filename) as f:\n",
        "  ls = f.read().strip().split('\\n')\n",
        "count = 0\n",
        "counts = defaultdict(int)\n",
        "for l in ls:\n",
        "  for i, c in enumerate(l):\n",
        "    if c == '1':\n",
        "      counts[i] += 1\n",
        "  count += 1\n",
        "\n",
        "most_common_bits = []\n",
        "least_common_bits = []\n",
        "for place in sorted(list(counts.keys())):\n",
        "  if counts[place] > count/2:\n",
        "    most_common_bits.append('1')\n",
        "    least_common_bits.append('0')\n",
        "  else:\n",
        "    most_common_bits.append('0')\n",
        "    least_common_bits.append('1')\n",
        "\n",
        "gamma = int(''.join(most_common_bits), 2)\n",
        "epsilon = int(''.join(least_common_bits), 2)\n",
        "print('The gamma rate is', gamma)\n",
        "print('The epsilon rate is', epsilon)\n",
        "print(\"Power consumption is\", gamma * epsilon)\n"
      ],
      "metadata": {
        "colab": {
          "base_uri": "https://localhost:8080/"
        },
        "id": "58ACOd-6xDeo",
        "outputId": "7dc3d494-0353-4edb-8a93-4e63328ecd26"
      },
      "execution_count": null,
      "outputs": [
        {
          "output_type": "stream",
          "name": "stdout",
          "text": [
            "The gamma rate is 1616\n",
            "The epsilon rate is 2479\n",
            "Power consumption is 4006064\n"
          ]
        }
      ]
    },
    {
      "cell_type": "code",
      "source": [
        "# part 2\n",
        "# load all binary numbers\n",
        "ls = test_input.strip().split('\\n')\n",
        "\n",
        "# remove values to find the oxygen rating\n",
        "ox_list = ls.copy()\n",
        "cur_bit = 0\n",
        "while len(ox_list) > 1:\n",
        "  print(\"ox_list is\", ox_list)\n",
        "  count = 0\n",
        "  counts = defaultdict(int)\n",
        "  for l in ox_list:\n",
        "    for i, c in enumerate(l):\n",
        "      if c == '1':\n",
        "        counts[i] += 1\n",
        "      else:\n",
        "        counts[i] += 0\n",
        "    count += 1\n",
        "\n",
        "  most_common_bits = []\n",
        "  for place in sorted(list(counts.keys())):\n",
        "    if counts[place] >= round(count/2 + 0.000001):\n",
        "      most_common_bits.append('1')\n",
        "    else:\n",
        "      most_common_bits.append('0')\n",
        "  new_list = []\n",
        "  print('mcbs is', most_common_bits)\n",
        "  for s in ox_list:\n",
        "    print(f'cur_bit is {cur_bit} and s is {s}')\n",
        "    if s[cur_bit] == most_common_bits[cur_bit]:\n",
        "      new_list.append(s)\n",
        "  ox_list = new_list\n",
        "  cur_bit += 1\n",
        "\n",
        "ox_rating = int(ox_list[0], 2)\n",
        "print(\"Oxygen generator rating is\", ox_rating)\n"
      ],
      "metadata": {
        "colab": {
          "base_uri": "https://localhost:8080/"
        },
        "id": "JgqYxm8xxr9p",
        "outputId": "6fc2018c-46fc-4659-ae12-6095a24df617"
      },
      "execution_count": null,
      "outputs": [
        {
          "output_type": "stream",
          "name": "stdout",
          "text": [
            "ox_list is ['00100', '11110', '10110', '10111', '10101', '01111', '00111', '11100', '10000', '11001', '00010', '01010']\n",
            "mcbs is ['1', '0', '1', '1', '0']\n",
            "cur_bit is 0 and s is 00100\n",
            "cur_bit is 0 and s is 11110\n",
            "cur_bit is 0 and s is 10110\n",
            "cur_bit is 0 and s is 10111\n",
            "cur_bit is 0 and s is 10101\n",
            "cur_bit is 0 and s is 01111\n",
            "cur_bit is 0 and s is 00111\n",
            "cur_bit is 0 and s is 11100\n",
            "cur_bit is 0 and s is 10000\n",
            "cur_bit is 0 and s is 11001\n",
            "cur_bit is 0 and s is 00010\n",
            "cur_bit is 0 and s is 01010\n",
            "ox_list is ['11110', '10110', '10111', '10101', '11100', '10000', '11001']\n",
            "mcbs is ['1', '0', '1', '0', '0']\n",
            "cur_bit is 1 and s is 11110\n",
            "cur_bit is 1 and s is 10110\n",
            "cur_bit is 1 and s is 10111\n",
            "cur_bit is 1 and s is 10101\n",
            "cur_bit is 1 and s is 11100\n",
            "cur_bit is 1 and s is 10000\n",
            "cur_bit is 1 and s is 11001\n",
            "ox_list is ['10110', '10111', '10101', '10000']\n",
            "mcbs is ['1', '0', '1', '1', '1']\n",
            "cur_bit is 2 and s is 10110\n",
            "cur_bit is 2 and s is 10111\n",
            "cur_bit is 2 and s is 10101\n",
            "cur_bit is 2 and s is 10000\n",
            "ox_list is ['10110', '10111', '10101']\n",
            "mcbs is ['1', '0', '1', '1', '1']\n",
            "cur_bit is 3 and s is 10110\n",
            "cur_bit is 3 and s is 10111\n",
            "cur_bit is 3 and s is 10101\n",
            "ox_list is ['10110', '10111']\n",
            "mcbs is ['1', '0', '1', '1', '1']\n",
            "cur_bit is 4 and s is 10110\n",
            "cur_bit is 4 and s is 10111\n",
            "Oxygen generator rating is 23\n"
          ]
        }
      ]
    },
    {
      "cell_type": "code",
      "source": [
        "# now both parts on the real data\n",
        "with open(filename) as f:\n",
        "  ls = f.read().strip().split('\\n')\n",
        "\n",
        "# remove values to find the oxygen rating\n",
        "ox_list = ls.copy()\n",
        "cur_bit = 0\n",
        "while len(ox_list) > 1:\n",
        "  count = 0\n",
        "  counts = defaultdict(int)\n",
        "  for l in ox_list:\n",
        "    for i, c in enumerate(l):\n",
        "      if c == '1':\n",
        "        counts[i] += 1\n",
        "      else:\n",
        "        counts[i] += 0\n",
        "    count += 1\n",
        "\n",
        "  most_common_bits = []\n",
        "  for place in sorted(list(counts.keys())):\n",
        "    if counts[place] >= round(count/2 + 0.000001):\n",
        "      most_common_bits.append('1')\n",
        "    else:\n",
        "      most_common_bits.append('0')\n",
        "  new_list = []\n",
        "  for s in ox_list:\n",
        "    if s[cur_bit] == most_common_bits[cur_bit]:\n",
        "      new_list.append(s)\n",
        "  ox_list = new_list\n",
        "  cur_bit += 1\n",
        "ox_rating = int(ox_list[0], 2)\n",
        "\n",
        "# find CO2 scrubber rating\n",
        "co_list = ls.copy()\n",
        "cur_bit = 0\n",
        "while len(co_list) > 1:\n",
        "  count = 0\n",
        "  counts = defaultdict(int)\n",
        "  for l in co_list:\n",
        "    for i, c in enumerate(l):\n",
        "      if c == '1':\n",
        "        counts[i] += 1\n",
        "      else:\n",
        "        counts[i] += 0\n",
        "    count += 1\n",
        "\n",
        "  least_common_bits = []\n",
        "  for place in sorted(list(counts.keys())):\n",
        "    if counts[place] >= round(count/2 + 0.000001):\n",
        "      least_common_bits.append('0')\n",
        "    else:\n",
        "      least_common_bits.append('1')\n",
        "  new_list = []\n",
        "  for s in co_list:\n",
        "    if s[cur_bit] == least_common_bits[cur_bit]:\n",
        "      new_list.append(s)\n",
        "  co_list = new_list\n",
        "  cur_bit += 1\n",
        "co2_rating = int(co_list[0], 2)\n",
        "\n",
        "print(\"Life support rating is\", ox_rating * co2_rating)"
      ],
      "metadata": {
        "colab": {
          "base_uri": "https://localhost:8080/"
        },
        "id": "jIULfY9C85ly",
        "outputId": "bef6b062-eaaf-45da-ecc9-933ac8c8dbfd"
      },
      "execution_count": null,
      "outputs": [
        {
          "output_type": "stream",
          "name": "stdout",
          "text": [
            "Life support rating is 5941884\n"
          ]
        }
      ]
    },
    {
      "cell_type": "markdown",
      "source": [
        "This is repeating some code and computation, so would not be good for later days, but works"
      ],
      "metadata": {
        "id": "7G0oCr9f_uMu"
      }
    },
    {
      "cell_type": "markdown",
      "source": [
        "[Day 4](https://adventofcode.com/2021/day/4) Giant Squid"
      ],
      "metadata": {
        "id": "zRwoEQTyui9l"
      }
    },
    {
      "cell_type": "code",
      "source": [
        "# Part 1 - Find the board that will win first. What is the sum of all unmarked\n",
        "#  numbers times the number that caused that board to win\n",
        "test_input = '''7,4,9,5,11,17,23,2,0,14,21,24,10,16,13,6,15,25,12,22,18,20,8,19,3,26,1\n",
        "\n",
        "22 13 17 11  0\n",
        " 8  2 23  4 24\n",
        "21  9 14 16  7\n",
        " 6 10  3 18  5\n",
        " 1 12 20 15 19\n",
        "\n",
        " 3 15  0  2 22\n",
        " 9 18 13 17  5\n",
        "19  8  7 25 23\n",
        "20 11 10 24  4\n",
        "14 21 16 12  6\n",
        "\n",
        "14 21 17 24  4\n",
        "10 16 15  9 19\n",
        "18  8 23 26 20\n",
        "22 11 13  6  5\n",
        " 2  0 12  3  7\n",
        "'''\n",
        "#ls = test_input.strip().split('\\n')\n",
        "with open(\"input_d04.txt\") as f:\n",
        "  ls = f.read().strip().split('\\n')\n",
        "\n",
        "draws = [int(x) for x in ls[0].split(',')]\n",
        "print(draws)\n",
        "\n",
        "boards = []\n",
        "cur_board = []\n",
        "for l in ls[2:]:\n",
        "  if l == '':\n",
        "    boards.append(cur_board)\n",
        "    cur_board = []\n",
        "  else:\n",
        "    cur_line = [int(x) for x in l.strip().split()]\n",
        "    cur_board.append(cur_line)\n",
        "boards.append(cur_board)\n",
        "print(f'Number of boards is {len(boards)}')\n"
      ],
      "metadata": {
        "colab": {
          "base_uri": "https://localhost:8080/"
        },
        "id": "OR-nyxc-vYe-",
        "outputId": "1bbdfbfe-f54f-48b2-903a-85f03cf476c4"
      },
      "execution_count": 1,
      "outputs": [
        {
          "output_type": "stream",
          "name": "stdout",
          "text": [
            "[6, 69, 28, 50, 36, 84, 49, 13, 48, 90, 1, 33, 71, 0, 94, 59, 53, 58, 60, 96, 30, 34, 29, 91, 11, 41, 77, 95, 17, 80, 85, 93, 7, 9, 74, 89, 18, 25, 26, 8, 87, 38, 68, 5, 12, 43, 27, 46, 62, 73, 16, 55, 22, 4, 65, 76, 54, 52, 83, 10, 21, 67, 15, 47, 45, 40, 35, 66, 79, 51, 75, 39, 64, 24, 37, 72, 3, 44, 82, 32, 78, 63, 57, 2, 86, 31, 19, 92, 14, 97, 20, 56, 88, 81, 70, 61, 42, 99, 23, 98]\n",
            "Number of boards is 100\n"
          ]
        }
      ]
    },
    {
      "cell_type": "code",
      "source": [
        "# make number markers for each board\n",
        "board_states = []\n",
        "for board in boards:\n",
        "  state = []\n",
        "  for row in board:\n",
        "    state.append([0, 0, 0, 0, 0])\n",
        "  board_states.append(state)\n",
        "print(f'Number of board states is {len(board_states)}')\n",
        "\n",
        "def checkWin(board_states, n):\n",
        "  #print(\"Board state is\", board_states[n])\n",
        "  col_counts = [0, 0, 0, 0, 0]\n",
        "  for row in board_states[n]:\n",
        "    if sum(row) == 5:\n",
        "      return(True)\n",
        "    for i, x in enumerate(row):\n",
        "      col_counts[i] += x\n",
        "      if col_counts[i] == 5:\n",
        "        return(True)\n",
        "  return(False)\n",
        "\n",
        "def unmarkedSum(boards, board_states, n):\n",
        "  count = 0\n",
        "  for y, row in enumerate(board_states[n]):\n",
        "    for x, num in enumerate(row):\n",
        "      if num == 0:\n",
        "        count += boards[n][y][x]\n",
        "  return(count)\n",
        "\n",
        "# call each number until there is a win\n",
        "winner = False\n",
        "for draw in draws:\n",
        "  for b, board in enumerate(boards):\n",
        "    for y, row in enumerate(board):\n",
        "      for x, num in enumerate(row):\n",
        "        if draw == num:\n",
        "          board_states[b][y][x] = 1\n",
        "          if checkWin(board_states, b):\n",
        "            unmarked_sum = unmarkedSum(boards, board_states, b)\n",
        "            print(f'Winning board score is {unmarked_sum * draw}')\n",
        "            print(f'Unmarked_sum = {unmarked_sum} cur_draw = {draw}')\n",
        "            winner = True\n",
        "            break\n",
        "      if winner:\n",
        "        break\n",
        "    if winner:\n",
        "      break\n",
        "  if winner:\n",
        "    break\n"
      ],
      "metadata": {
        "colab": {
          "base_uri": "https://localhost:8080/"
        },
        "id": "b09wIbO9S1re",
        "outputId": "7df65bf8-66b4-4e2a-c9f9-6fab01fcfa0b"
      },
      "execution_count": 3,
      "outputs": [
        {
          "output_type": "stream",
          "name": "stdout",
          "text": [
            "Number of board states is 100\n",
            "Winning board score is 71708\n",
            "Unmarked_sum = 788 cur_draw = 91\n"
          ]
        }
      ]
    },
    {
      "cell_type": "code",
      "source": [
        "# part 2\n",
        "\n",
        "def checkWin(board_states, n):\n",
        "  #print(\"Board state is\", board_states[n])\n",
        "  col_counts = [0, 0, 0, 0, 0]\n",
        "  for row in board_states[n]:\n",
        "    if sum(row) == 5:\n",
        "      return(True)\n",
        "    for i, x in enumerate(row):\n",
        "      col_counts[i] += x\n",
        "      if col_counts[i] == 5:\n",
        "        return(True)\n",
        "  return(False)\n",
        "\n",
        "def unmarkedSum(boards, board_states, n):\n",
        "  count = 0\n",
        "  for y, row in enumerate(board_states[n]):\n",
        "    for x, num in enumerate(row):\n",
        "      if num == 0:\n",
        "        count += boards[n][y][x]\n",
        "  return(count)\n",
        "\n",
        "with open(\"input_d04.txt\") as f:\n",
        "  ls = f.read().strip().split('\\n')\n",
        "\n",
        "draws = [int(x) for x in ls[0].split(',')]\n",
        "print(draws)\n",
        "\n",
        "boards = []\n",
        "cur_board = []\n",
        "for l in ls[2:]:\n",
        "  if l == '':\n",
        "    boards.append(cur_board)\n",
        "    cur_board = []\n",
        "  else:\n",
        "    cur_line = [int(x) for x in l.strip().split()]\n",
        "    cur_board.append(cur_line)\n",
        "boards.append(cur_board)\n",
        "print(f'Number of boards is {len(boards)}')\n",
        "\n",
        "# make number markers for each board\n",
        "board_states = []\n",
        "for board in boards:\n",
        "  state = []\n",
        "  for row in board:\n",
        "    state.append([0, 0, 0, 0, 0])\n",
        "  board_states.append(state)\n",
        "print(f'Number of board states is {len(board_states)}')\n",
        "\n",
        "# call each number until there is a last board\n",
        "winning_boards = []\n",
        "for draw in draws:\n",
        "  if len(boards) < 1:\n",
        "    break\n",
        "  new_boards_list = []\n",
        "  new_board_states = []\n",
        "  for b, board in enumerate(boards):\n",
        "    draw_found = False\n",
        "    for y, row in enumerate(board):\n",
        "      for x, num in enumerate(row):\n",
        "        if draw == num:\n",
        "          board_states[b][y][x] = 1\n",
        "          draw_found = True\n",
        "          if checkWin(board_states, b):\n",
        "            unmarked_sum = unmarkedSum(boards, board_states, b)\n",
        "            winning_boards.append(unmarked_sum * draw)\n",
        "          else:\n",
        "            new_boards_list.append(board)\n",
        "            new_board_states.append(board_states[b])\n",
        "          break\n",
        "      if draw_found:\n",
        "        break\n",
        "    if not draw_found:\n",
        "      new_boards_list.append(board)\n",
        "      new_board_states.append(board_states[b])\n",
        "  boards = new_boards_list\n",
        "  board_states = new_board_states\n",
        "print('Last winning board has a score of', winning_boards[-1])\n",
        "# going to post as seperate py files from here on as debugging is too\n",
        "#  difficult here and want to seperate each day's code"
      ],
      "metadata": {
        "colab": {
          "base_uri": "https://localhost:8080/"
        },
        "id": "TeaV7sCCl_TV",
        "outputId": "b5998f6a-1015-4029-924d-360d5985c827"
      },
      "execution_count": 10,
      "outputs": [
        {
          "output_type": "stream",
          "name": "stdout",
          "text": [
            "[6, 69, 28, 50, 36, 84, 49, 13, 48, 90, 1, 33, 71, 0, 94, 59, 53, 58, 60, 96, 30, 34, 29, 91, 11, 41, 77, 95, 17, 80, 85, 93, 7, 9, 74, 89, 18, 25, 26, 8, 87, 38, 68, 5, 12, 43, 27, 46, 62, 73, 16, 55, 22, 4, 65, 76, 54, 52, 83, 10, 21, 67, 15, 47, 45, 40, 35, 66, 79, 51, 75, 39, 64, 24, 37, 72, 3, 44, 82, 32, 78, 63, 57, 2, 86, 31, 19, 92, 14, 97, 20, 56, 88, 81, 70, 61, 42, 99, 23, 98]\n",
            "Number of boards is 100\n",
            "Number of board states is 100\n",
            "Last winning board has a score of 34726\n"
          ]
        }
      ]
    }
  ]
}